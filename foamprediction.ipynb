{
  "nbformat": 4,
  "nbformat_minor": 0,
  "metadata": {
    "colab": {
      "name": "foamprediction.ipynb",
      "provenance": [],
      "authorship_tag": "ABX9TyOAX1Rwb8Fs3Ffmodoflh+Y",
      "include_colab_link": true
    },
    "kernelspec": {
      "name": "python3",
      "display_name": "Python 3"
    },
    "language_info": {
      "name": "python"
    }
  },
  "cells": [
    {
      "cell_type": "markdown",
      "metadata": {
        "id": "view-in-github",
        "colab_type": "text"
      },
      "source": [
        "<a href=\"https://colab.research.google.com/github/acse-srm3018/FoamCO2Prediction/blob/main/foamprediction.ipynb\" target=\"_parent\"><img src=\"https://colab.research.google.com/assets/colab-badge.svg\" alt=\"Open In Colab\"/></a>"
      ]
    },
    {
      "cell_type": "markdown",
      "metadata": {
        "id": "w5fI2nvbhlmT"
      },
      "source": [
        "## Imports"
      ]
    },
    {
      "cell_type": "code",
      "metadata": {
        "colab": {
          "base_uri": "https://localhost:8080/"
        },
        "id": "cWTgZAEXhrY7",
        "outputId": "fb3af12c-dc01-4c3e-a69c-2bfe00ceb989"
      },
      "source": [
        "%pylab inline\n",
        "import pandas as pd # for manipulating tabular data\n",
        "import matplotlib.pyplot as plt # for visualisation\n",
        "import seaborn as sns # for user friendly visualisation\n",
        "import numpy as np # for numerical python functionality"
      ],
      "execution_count": 1,
      "outputs": [
        {
          "output_type": "stream",
          "name": "stdout",
          "text": [
            "Populating the interactive namespace from numpy and matplotlib\n"
          ]
        }
      ]
    },
    {
      "cell_type": "markdown",
      "metadata": {
        "id": "ue_OxcDMhwBa"
      },
      "source": [
        "# 1. Linear regression"
      ]
    },
    {
      "cell_type": "markdown",
      "metadata": {
        "id": "bAHHGRrOhaOH"
      },
      "source": [
        "## 1.1 Imports"
      ]
    },
    {
      "cell_type": "code",
      "metadata": {
        "id": "nH-RU-HYemBe"
      },
      "source": [
        "from sklearn.linear_model import LinearRegression # implementation of linear regression\n",
        "from sklearn.model_selection import train_test_split # for creating a train and test set\n",
        "from sklearn.metrics import mean_absolute_error, mean_squared_error, r2_score # for evaluating our model"
      ],
      "execution_count": 2,
      "outputs": []
    },
    {
      "cell_type": "markdown",
      "metadata": {
        "id": "9WAUojRWiZL6"
      },
      "source": [
        "## 1.2 Loading the data"
      ]
    },
    {
      "cell_type": "markdown",
      "metadata": {
        "id": "AWmrwkj1idhI"
      },
      "source": [
        "# download the data\n",
        "!wget https://github.com/acse-srm3018/FoamCO2Prediction/blob/main/Data.xlsx"
      ]
    },
    {
      "cell_type": "code",
      "metadata": {
        "id": "CvY50UJcj9oo"
      },
      "source": [
        "data = pd.read_excel('/content/Data.xlsx')"
      ],
      "execution_count": 4,
      "outputs": []
    },
    {
      "cell_type": "code",
      "metadata": {
        "colab": {
          "base_uri": "https://localhost:8080/",
          "height": 206
        },
        "id": "hxOxKLZYlLxP",
        "outputId": "410be916-78ad-4e3d-b8d6-3805d397d340"
      },
      "source": [
        "data.head()"
      ],
      "execution_count": 5,
      "outputs": [
        {
          "output_type": "execute_result",
          "data": {
            "text/html": [
              "<div>\n",
              "<style scoped>\n",
              "    .dataframe tbody tr th:only-of-type {\n",
              "        vertical-align: middle;\n",
              "    }\n",
              "\n",
              "    .dataframe tbody tr th {\n",
              "        vertical-align: top;\n",
              "    }\n",
              "\n",
              "    .dataframe thead th {\n",
              "        text-align: right;\n",
              "    }\n",
              "</style>\n",
              "<table border=\"1\" class=\"dataframe\">\n",
              "  <thead>\n",
              "    <tr style=\"text-align: right;\">\n",
              "      <th></th>\n",
              "      <th>foam type</th>\n",
              "      <th>initial oil in place</th>\n",
              "      <th>pore volume</th>\n",
              "      <th>Porosity</th>\n",
              "      <th>Permeability</th>\n",
              "      <th>PV</th>\n",
              "      <th>RF</th>\n",
              "      <th>oil flow Rate</th>\n",
              "    </tr>\n",
              "  </thead>\n",
              "  <tbody>\n",
              "    <tr>\n",
              "      <th>0</th>\n",
              "      <td>1.0</td>\n",
              "      <td>97</td>\n",
              "      <td>43.5</td>\n",
              "      <td>34.8</td>\n",
              "      <td>9.0</td>\n",
              "      <td>0.5</td>\n",
              "      <td>5.0</td>\n",
              "      <td>0.190</td>\n",
              "    </tr>\n",
              "    <tr>\n",
              "      <th>1</th>\n",
              "      <td>1.0</td>\n",
              "      <td>97</td>\n",
              "      <td>43.5</td>\n",
              "      <td>34.8</td>\n",
              "      <td>9.0</td>\n",
              "      <td>0.7</td>\n",
              "      <td>7.0</td>\n",
              "      <td>0.225</td>\n",
              "    </tr>\n",
              "    <tr>\n",
              "      <th>2</th>\n",
              "      <td>1.0</td>\n",
              "      <td>97</td>\n",
              "      <td>43.5</td>\n",
              "      <td>34.8</td>\n",
              "      <td>9.0</td>\n",
              "      <td>1.0</td>\n",
              "      <td>9.5</td>\n",
              "      <td>0.330</td>\n",
              "    </tr>\n",
              "    <tr>\n",
              "      <th>3</th>\n",
              "      <td>1.0</td>\n",
              "      <td>97</td>\n",
              "      <td>43.5</td>\n",
              "      <td>34.8</td>\n",
              "      <td>9.0</td>\n",
              "      <td>1.3</td>\n",
              "      <td>11.0</td>\n",
              "      <td>0.075</td>\n",
              "    </tr>\n",
              "    <tr>\n",
              "      <th>4</th>\n",
              "      <td>1.0</td>\n",
              "      <td>97</td>\n",
              "      <td>43.5</td>\n",
              "      <td>34.8</td>\n",
              "      <td>9.0</td>\n",
              "      <td>1.7</td>\n",
              "      <td>12.5</td>\n",
              "      <td>0.050</td>\n",
              "    </tr>\n",
              "  </tbody>\n",
              "</table>\n",
              "</div>"
            ],
            "text/plain": [
              "   foam type  initial oil in place  pore volume  ...   PV    RF  oil flow Rate\n",
              "0        1.0                    97         43.5  ...  0.5   5.0          0.190\n",
              "1        1.0                    97         43.5  ...  0.7   7.0          0.225\n",
              "2        1.0                    97         43.5  ...  1.0   9.5          0.330\n",
              "3        1.0                    97         43.5  ...  1.3  11.0          0.075\n",
              "4        1.0                    97         43.5  ...  1.7  12.5          0.050\n",
              "\n",
              "[5 rows x 8 columns]"
            ]
          },
          "metadata": {},
          "execution_count": 5
        }
      ]
    },
    {
      "cell_type": "markdown",
      "metadata": {
        "id": "LbNIoFB-lgT4"
      },
      "source": [
        "## 1.3 Dimensions and features"
      ]
    },
    {
      "cell_type": "code",
      "metadata": {
        "colab": {
          "base_uri": "https://localhost:8080/"
        },
        "id": "I3IlcR0llnd0",
        "outputId": "6cd4f61c-4c8f-409a-db00-00c8be67ee94"
      },
      "source": [
        "data.shape"
      ],
      "execution_count": 6,
      "outputs": [
        {
          "output_type": "execute_result",
          "data": {
            "text/plain": [
              "(213, 8)"
            ]
          },
          "metadata": {},
          "execution_count": 6
        }
      ]
    },
    {
      "cell_type": "code",
      "metadata": {
        "colab": {
          "base_uri": "https://localhost:8080/"
        },
        "id": "aXs4n8DnlpMZ",
        "outputId": "a1f8d6c4-69d7-4e91-cefb-8116f4f223d2"
      },
      "source": [
        "data.columns"
      ],
      "execution_count": 7,
      "outputs": [
        {
          "output_type": "execute_result",
          "data": {
            "text/plain": [
              "Index(['foam type', 'initial oil in place', 'pore volume', 'Porosity',\n",
              "       'Permeability', 'PV', 'RF', 'oil flow Rate'],\n",
              "      dtype='object')"
            ]
          },
          "metadata": {},
          "execution_count": 7
        }
      ]
    },
    {
      "cell_type": "markdown",
      "metadata": {
        "id": "zCHWkWpemLzL"
      },
      "source": [
        "1.4 Data types"
      ]
    },
    {
      "cell_type": "code",
      "metadata": {
        "colab": {
          "base_uri": "https://localhost:8080/"
        },
        "id": "nR-a1u5bmKum",
        "outputId": "759857b7-2523-4c0d-9711-cb1eb0102879"
      },
      "source": [
        "data.info"
      ],
      "execution_count": 8,
      "outputs": [
        {
          "output_type": "execute_result",
          "data": {
            "text/plain": [
              "<bound method DataFrame.info of      foam type  initial oil in place  pore volume  ...    PV    RF  oil flow Rate\n",
              "0          1.0                    97         43.5  ...   0.5   5.0       0.190000\n",
              "1          1.0                    97         43.5  ...   0.7   7.0       0.225000\n",
              "2          1.0                    97         43.5  ...   1.0   9.5       0.330000\n",
              "3          1.0                    97         43.5  ...   1.3  11.0       0.075000\n",
              "4          1.0                    97         43.5  ...   1.7  12.5       0.050000\n",
              "..         ...                   ...          ...  ...   ...   ...            ...\n",
              "208        5.0                    96         49.0  ...  33.0  40.1       0.001000\n",
              "209        5.0                    96         49.0  ...  34.0  40.3       0.000400\n",
              "210        5.0                    96         49.0  ...  34.8  40.5       0.000014\n",
              "211        5.0                    96         49.0  ...  35.3  40.6       0.000000\n",
              "212        5.0                    96         49.0  ...  36.3  40.6       0.000000\n",
              "\n",
              "[213 rows x 8 columns]>"
            ]
          },
          "metadata": {},
          "execution_count": 8
        }
      ]
    },
    {
      "cell_type": "markdown",
      "metadata": {
        "id": "HnFisWQLmeVc"
      },
      "source": [
        "### One-hot encoding\n",
        "\n",
        "Some of these data types are clearly categorical. In order to use categorical features in ML models we would have to [one-hot encode them](https://machinelearningmastery.com/why-one-hot-encode-data-in-machine-learning/). This is easy enough to do using the `pd.get_dummies()` function. For more information, [here](https://pandas.pydata.org/docs/reference/api/pandas.get_dummies.html#) is the documentation. For now, we will simply deal with the numerical features."
      ]
    },
    {
      "cell_type": "code",
      "metadata": {
        "colab": {
          "base_uri": "https://localhost:8080/"
        },
        "id": "ACGTjneImdOB",
        "outputId": "2b91cab1-1137-477f-c084-43c3b4d47192"
      },
      "source": [
        "# for now we are only going to consider numerical data-types \n",
        "data_num = data.select_dtypes(include = 'number')\n",
        "data_num.info()"
      ],
      "execution_count": 9,
      "outputs": [
        {
          "output_type": "stream",
          "name": "stdout",
          "text": [
            "<class 'pandas.core.frame.DataFrame'>\n",
            "RangeIndex: 213 entries, 0 to 212\n",
            "Data columns (total 8 columns):\n",
            " #   Column                Non-Null Count  Dtype  \n",
            "---  ------                --------------  -----  \n",
            " 0   foam type             212 non-null    float64\n",
            " 1   initial oil in place  213 non-null    int64  \n",
            " 2   pore volume           213 non-null    float64\n",
            " 3   Porosity              213 non-null    float64\n",
            " 4   Permeability          213 non-null    float64\n",
            " 5   PV                    212 non-null    float64\n",
            " 6   RF                    213 non-null    float64\n",
            " 7   oil flow Rate         213 non-null    float64\n",
            "dtypes: float64(7), int64(1)\n",
            "memory usage: 13.4 KB\n"
          ]
        }
      ]
    },
    {
      "cell_type": "markdown",
      "metadata": {
        "id": "xiZF9prMn8Hk"
      },
      "source": [
        "## 1.6 Visualisation"
      ]
    },
    {
      "cell_type": "code",
      "metadata": {
        "colab": {
          "base_uri": "https://localhost:8080/",
          "height": 387
        },
        "id": "Dco0-MxeLKT-",
        "outputId": "b4da7940-ac79-4da7-a4ec-a36079a18cea"
      },
      "source": [
        "# distribution of target variable\n",
        "sns.displot(data_num['RF'], kde=True)"
      ],
      "execution_count": 10,
      "outputs": [
        {
          "output_type": "execute_result",
          "data": {
            "text/plain": [
              "<seaborn.axisgrid.FacetGrid at 0x7fd3d6356c10>"
            ]
          },
          "metadata": {},
          "execution_count": 10
        },
        {
          "output_type": "display_data",
          "data": {
            "image/png": "[encoded data removed]",
            "text/plain": [
              "<Figure size 360x360 with 1 Axes>"
            ]
          },
          "metadata": {
            "needs_background": "light"
          }
        }
      ]
    },
    {
      "cell_type": "code",
      "metadata": {
        "colab": {
          "base_uri": "https://localhost:8080/",
          "height": 387
        },
        "id": "UU5OZCljoVJW",
        "outputId": "48f1cbd4-1a11-4151-e5c4-91e021fa84cb"
      },
      "source": [
        "# distribution of target variable\n",
        "sns.displot(data_num['oil flow Rate'], kde=True)"
      ],
      "execution_count": 11,
      "outputs": [
        {
          "output_type": "execute_result",
          "data": {
            "text/plain": [
              "<seaborn.axisgrid.FacetGrid at 0x7fd3d68618d0>"
            ]
          },
          "metadata": {},
          "execution_count": 11
        },
        {
          "output_type": "display_data",
          "data": {
            "image/png": "[encoded data removed]",
            "text/plain": [
              "<Figure size 360x360 with 1 Axes>"
            ]
          },
          "metadata": {
            "needs_background": "light"
          }
        }
      ]
    },
    {
      "cell_type": "code",
      "metadata": {
        "id": "838hyQodoffX"
      },
      "source": [
        ""
      ],
      "execution_count": null,
      "outputs": []
    }
  ]
}