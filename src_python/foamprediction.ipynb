{
  "nbformat": 4,
  "nbformat_minor": 0,
  "metadata": {
    "colab": {
      "name": "foamprediction.ipynb",
      "provenance": [],
      "authorship_tag": "ABX9TyOoDrF2TogGNMd/DxnUhswo",
      "include_colab_link": true
    },
    "kernelspec": {
      "name": "python3",
      "display_name": "Python 3"
    },
    "language_info": {
      "name": "python"
    }
  },
  "cells": [
    {
      "cell_type": "markdown",
      "metadata": {
        "id": "view-in-github",
        "colab_type": "text"
      },
      "source": [
        "<a href=\"https://colab.research.google.com/github/acse-srm3018/FoamCO2Prediction/blob/main/src_python/foamprediction.ipynb\" target=\"_parent\"><img src=\"https://colab.research.google.com/assets/colab-badge.svg\" alt=\"Open In Colab\"/></a>"
      ]
    },
    {
      "cell_type": "markdown",
      "metadata": {
        "id": "O8Ep-koP0iHO"
      },
      "source": [
        "# ANN-based prediction of laboratory-scale performance of CO2-foam "
      ]
    },
    {
      "cell_type": "markdown",
      "metadata": {
        "id": "w5fI2nvbhlmT"
      },
      "source": [
        "## Imports"
      ]
    },
    {
      "cell_type": "code",
      "metadata": {
        "colab": {
          "base_uri": "https://localhost:8080/"
        },
        "id": "cWTgZAEXhrY7",
        "outputId": "fb3af12c-dc01-4c3e-a69c-2bfe00ceb989"
      },
      "source": [
        "%pylab inline\n",
        "import pandas as pd # for manipulating tabular data\n",
        "import matplotlib.pyplot as plt # for visualisation\n",
        "import seaborn as sns # for user friendly visualisation\n",
        "import numpy as np # for numerical python functionality"
      ],
      "execution_count": 1,
      "outputs": [
        {
          "output_type": "stream",
          "name": "stdout",
          "text": [
            "Populating the interactive namespace from numpy and matplotlib\n"
          ]
        }
      ]
    },
    {
      "cell_type": "markdown",
      "metadata": {
        "id": "ue_OxcDMhwBa"
      },
      "source": [
        "# 1. Linear regression"
      ]
    },
    {
      "cell_type": "markdown",
      "metadata": {
        "id": "bAHHGRrOhaOH"
      },
      "source": [
        "## 1.1 Imports"
      ]
    },
    {
      "cell_type": "code",
      "metadata": {
        "id": "nH-RU-HYemBe"
      },
      "source": [
        "from sklearn.linear_model import LinearRegression # implementation of linear regression\n",
        "from sklearn.model_selection import train_test_split # for creating a train and test set\n",
        "from sklearn.metrics import mean_absolute_error, mean_squared_error, r2_score # for evaluating our model"
      ],
      "execution_count": 2,
      "outputs": []
    },
    {
      "cell_type": "markdown",
      "metadata": {
        "id": "9WAUojRWiZL6"
      },
      "source": [
        "## 1.2 Loading the data"
      ]
    },
    {
      "cell_type": "markdown",
      "metadata": {
        "id": "AWmrwkj1idhI"
      },
      "source": [
        "# download the data\n",
        "!wget https://github.com/acse-srm3018/FoamCO2Prediction/blob/main/Data.xlsx"
      ]
    },
    {
      "cell_type": "code",
      "metadata": {
        "id": "CvY50UJcj9oo"
      },
      "source": [
        "data = pd.read_excel('/content/Data.xlsx')"
      ],
      "execution_count": 4,
      "outputs": []
    },
    {
      "cell_type": "code",
      "metadata": {
        "colab": {
          "base_uri": "https://localhost:8080/",
          "height": 206
        },
        "id": "hxOxKLZYlLxP",
        "outputId": "410be916-78ad-4e3d-b8d6-3805d397d340"
      },
      "source": [
        "data.head()"
      ],
      "execution_count": 5,
      "outputs": [
        {
          "output_type": "execute_result",
          "data": {
            "text/html": [
              "<div>\n",
              "<style scoped>\n",
              "    .dataframe tbody tr th:only-of-type {\n",
              "        vertical-align: middle;\n",
              "    }\n",
              "\n",
              "    .dataframe tbody tr th {\n",
              "        vertical-align: top;\n",
              "    }\n",
              "\n",
              "    .dataframe thead th {\n",
              "        text-align: right;\n",
              "    }\n",
              "</style>\n",
              "<table border=\"1\" class=\"dataframe\">\n",
              "  <thead>\n",
              "    <tr style=\"text-align: right;\">\n",
              "      <th></th>\n",
              "      <th>foam type</th>\n",
              "      <th>initial oil in place</th>\n",
              "      <th>pore volume</th>\n",
              "      <th>Porosity</th>\n",
              "      <th>Permeability</th>\n",
              "      <th>PV</th>\n",
              "      <th>RF</th>\n",
              "      <th>oil flow Rate</th>\n",
              "    </tr>\n",
              "  </thead>\n",
              "  <tbody>\n",
              "    <tr>\n",
              "      <th>0</th>\n",
              "      <td>1.0</td>\n",
              "      <td>97</td>\n",
              "      <td>43.5</td>\n",
              "      <td>34.8</td>\n",
              "      <td>9.0</td>\n",
              "      <td>0.5</td>\n",
              "      <td>5.0</td>\n",
              "      <td>0.190</td>\n",
              "    </tr>\n",
              "    <tr>\n",
              "      <th>1</th>\n",
              "      <td>1.0</td>\n",
              "      <td>97</td>\n",
              "      <td>43.5</td>\n",
              "      <td>34.8</td>\n",
              "      <td>9.0</td>\n",
              "      <td>0.7</td>\n",
              "      <td>7.0</td>\n",
              "      <td>0.225</td>\n",
              "    </tr>\n",
              "    <tr>\n",
              "      <th>2</th>\n",
              "      <td>1.0</td>\n",
              "      <td>97</td>\n",
              "      <td>43.5</td>\n",
              "      <td>34.8</td>\n",
              "      <td>9.0</td>\n",
              "      <td>1.0</td>\n",
              "      <td>9.5</td>\n",
              "      <td>0.330</td>\n",
              "    </tr>\n",
              "    <tr>\n",
              "      <th>3</th>\n",
              "      <td>1.0</td>\n",
              "      <td>97</td>\n",
              "      <td>43.5</td>\n",
              "      <td>34.8</td>\n",
              "      <td>9.0</td>\n",
              "      <td>1.3</td>\n",
              "      <td>11.0</td>\n",
              "      <td>0.075</td>\n",
              "    </tr>\n",
              "    <tr>\n",
              "      <th>4</th>\n",
              "      <td>1.0</td>\n",
              "      <td>97</td>\n",
              "      <td>43.5</td>\n",
              "      <td>34.8</td>\n",
              "      <td>9.0</td>\n",
              "      <td>1.7</td>\n",
              "      <td>12.5</td>\n",
              "      <td>0.050</td>\n",
              "    </tr>\n",
              "  </tbody>\n",
              "</table>\n",
              "</div>"
            ],
            "text/plain": [
              "   foam type  initial oil in place  pore volume  ...   PV    RF  oil flow Rate\n",
              "0        1.0                    97         43.5  ...  0.5   5.0          0.190\n",
              "1        1.0                    97         43.5  ...  0.7   7.0          0.225\n",
              "2        1.0                    97         43.5  ...  1.0   9.5          0.330\n",
              "3        1.0                    97         43.5  ...  1.3  11.0          0.075\n",
              "4        1.0                    97         43.5  ...  1.7  12.5          0.050\n",
              "\n",
              "[5 rows x 8 columns]"
            ]
          },
          "metadata": {},
          "execution_count": 5
        }
      ]
    },
    {
      "cell_type": "markdown",
      "metadata": {
        "id": "LbNIoFB-lgT4"
      },
      "source": [
        "## 1.3 Dimensions and features"
      ]
    },
    {
      "cell_type": "code",
      "metadata": {
        "colab": {
          "base_uri": "https://localhost:8080/"
        },
        "id": "I3IlcR0llnd0",
        "outputId": "6cd4f61c-4c8f-409a-db00-00c8be67ee94"
      },
      "source": [
        "data.shape"
      ],
      "execution_count": 6,
      "outputs": [
        {
          "output_type": "execute_result",
          "data": {
            "text/plain": [
              "(213, 8)"
            ]
          },
          "metadata": {},
          "execution_count": 6
        }
      ]
    },
    {
      "cell_type": "code",
      "metadata": {
        "colab": {
          "base_uri": "https://localhost:8080/"
        },
        "id": "aXs4n8DnlpMZ",
        "outputId": "a1f8d6c4-69d7-4e91-cefb-8116f4f223d2"
      },
      "source": [
        "data.columns"
      ],
      "execution_count": 7,
      "outputs": [
        {
          "output_type": "execute_result",
          "data": {
            "text/plain": [
              "Index(['foam type', 'initial oil in place', 'pore volume', 'Porosity',\n",
              "       'Permeability', 'PV', 'RF', 'oil flow Rate'],\n",
              "      dtype='object')"
            ]
          },
          "metadata": {},
          "execution_count": 7
        }
      ]
    },
    {
      "cell_type": "markdown",
      "metadata": {
        "id": "zCHWkWpemLzL"
      },
      "source": [
        "1.4 Data types"
      ]
    },
    {
      "cell_type": "code",
      "metadata": {
        "colab": {
          "base_uri": "https://localhost:8080/"
        },
        "id": "nR-a1u5bmKum",
        "outputId": "759857b7-2523-4c0d-9711-cb1eb0102879"
      },
      "source": [
        "data.info"
      ],
      "execution_count": 8,
      "outputs": [
        {
          "output_type": "execute_result",
          "data": {
            "text/plain": [
              "<bound method DataFrame.info of      foam type  initial oil in place  pore volume  ...    PV    RF  oil flow Rate\n",
              "0          1.0                    97         43.5  ...   0.5   5.0       0.190000\n",
              "1          1.0                    97         43.5  ...   0.7   7.0       0.225000\n",
              "2          1.0                    97         43.5  ...   1.0   9.5       0.330000\n",
              "3          1.0                    97         43.5  ...   1.3  11.0       0.075000\n",
              "4          1.0                    97         43.5  ...   1.7  12.5       0.050000\n",
              "..         ...                   ...          ...  ...   ...   ...            ...\n",
              "208        5.0                    96         49.0  ...  33.0  40.1       0.001000\n",
              "209        5.0                    96         49.0  ...  34.0  40.3       0.000400\n",
              "210        5.0                    96         49.0  ...  34.8  40.5       0.000014\n",
              "211        5.0                    96         49.0  ...  35.3  40.6       0.000000\n",
              "212        5.0                    96         49.0  ...  36.3  40.6       0.000000\n",
              "\n",
              "[213 rows x 8 columns]>"
            ]
          },
          "metadata": {},
          "execution_count": 8
        }
      ]
    },
    {
      "cell_type": "markdown",
      "metadata": {
        "id": "HnFisWQLmeVc"
      },
      "source": [
        "### One-hot encoding\n",
        "\n",
        "Some of these data types are clearly categorical. In order to use categorical features in ML models we would have to [one-hot encode them](https://machinelearningmastery.com/why-one-hot-encode-data-in-machine-learning/). This is easy enough to do using the `pd.get_dummies()` function. For more information, [here](https://pandas.pydata.org/docs/reference/api/pandas.get_dummies.html#) is the documentation. For now, we will simply deal with the numerical features."
      ]
    },
    {
      "cell_type": "code",
      "metadata": {
        "colab": {
          "base_uri": "https://localhost:8080/"
        },
        "id": "ACGTjneImdOB",
        "outputId": "2b91cab1-1137-477f-c084-43c3b4d47192"
      },
      "source": [
        "# for now we are only going to consider numerical data-types \n",
        "data_num = data.select_dtypes(include = 'number')\n",
        "data_num.info()"
      ],
      "execution_count": 9,
      "outputs": [
        {
          "output_type": "stream",
          "name": "stdout",
          "text": [
            "<class 'pandas.core.frame.DataFrame'>\n",
            "RangeIndex: 213 entries, 0 to 212\n",
            "Data columns (total 8 columns):\n",
            " #   Column                Non-Null Count  Dtype  \n",
            "---  ------                --------------  -----  \n",
            " 0   foam type             212 non-null    float64\n",
            " 1   initial oil in place  213 non-null    int64  \n",
            " 2   pore volume           213 non-null    float64\n",
            " 3   Porosity              213 non-null    float64\n",
            " 4   Permeability          213 non-null    float64\n",
            " 5   PV                    212 non-null    float64\n",
            " 6   RF                    213 non-null    float64\n",
            " 7   oil flow Rate         213 non-null    float64\n",
            "dtypes: float64(7), int64(1)\n",
            "memory usage: 13.4 KB\n"
          ]
        }
      ]
    },
    {
      "cell_type": "markdown",
      "metadata": {
        "id": "xiZF9prMn8Hk"
      },
      "source": [
        "## 1.6 Visualisation"
      ]
    },
    {
      "cell_type": "code",
      "metadata": {
        "colab": {
          "base_uri": "https://localhost:8080/",
          "height": 387
        },
        "id": "Dco0-MxeLKT-",
        "outputId": "b4da7940-ac79-4da7-a4ec-a36079a18cea"
      },
      "source": [
        "# distribution of target variable(RF)\n",
        "sns.displot(data_num['RF'], kde=True)"
      ],
      "execution_count": 10,
      "outputs": [
        {
          "output_type": "execute_result",
          "data": {
            "text/plain": [
              "<seaborn.axisgrid.FacetGrid at 0x7fd3d6356c10>"
            ]
          },
          "metadata": {},
          "execution_count": 10
        },
        {
          "output_type": "display_data",
          "data": {
            "image/png": "[encoded data removed]",
            "text/plain": [
              "<Figure size 360x360 with 1 Axes>"
            ]
          },
          "metadata": {
            "needs_background": "light"
          }
        }
      ]
    },
    {
      "cell_type": "code",
      "metadata": {
        "colab": {
          "base_uri": "https://localhost:8080/",
          "height": 387
        },
        "id": "UU5OZCljoVJW",
        "outputId": "48f1cbd4-1a11-4151-e5c4-91e021fa84cb"
      },
      "source": [
        "# distribution of target variable(oil flow rate)\n",
        "sns.displot(data_num['oil flow Rate'], kde=True)"
      ],
      "execution_count": 11,
      "outputs": [
        {
          "output_type": "execute_result",
          "data": {
            "text/plain": [
              "<seaborn.axisgrid.FacetGrid at 0x7fd3d68618d0>"
            ]
          },
          "metadata": {},
          "execution_count": 11
        },
        {
          "output_type": "display_data",
          "data": {
            "image/png": "[encoded data removed]",
            "text/plain": [
              "<Figure size 360x360 with 1 Axes>"
            ]
          },
          "metadata": {
            "needs_background": "light"
          }
        }
      ]
    },
    {
      "cell_type": "code",
      "metadata": {
        "colab": {
          "base_uri": "https://localhost:8080/",
          "height": 215
        },
        "id": "838hyQodoffX",
        "outputId": "504762e7-5264-4475-bda9-c471ad663b05"
      },
      "source": [
        "# visualise the relationship between different features and the target variable (RF)\n",
        "sns.pairplot(data_num, x_vars=data_num.columns.drop('RF')[:6], y_vars=['RF'], markers='.',\n",
        "             plot_kws={'x_jitter': 0.1, 'y_jitter': 0.1, 'scatter_kws': {'alpha': 0.2}},\n",
        "             kind='reg')"
      ],
      "execution_count": 13,
      "outputs": [
        {
          "output_type": "execute_result",
          "data": {
            "text/plain": [
              "<seaborn.axisgrid.PairGrid at 0x7fd3ca8bac50>"
            ]
          },
          "metadata": {},
          "execution_count": 13
        },
        {
          "output_type": "display_data",
          "data": {
            "image/png": "[encoded data removed]",
            "text/plain": [
              "<Figure size 1080x180 with 6 Axes>"
            ]
          },
          "metadata": {
            "needs_background": "light"
          }
        }
      ]
    },
    {
      "cell_type": "code",
      "metadata": {
        "colab": {
          "base_uri": "https://localhost:8080/",
          "height": 215
        },
        "id": "UYBihyT0pTxg",
        "outputId": "f0e0fa6c-6b7f-40d3-bec9-0aca93957a99"
      },
      "source": [
        "# visualise the relationship between different features and the target variable (RF)\n",
        "sns.pairplot(data_num, x_vars=data_num.columns.drop('oil flow Rate')[:6], y_vars=['oil flow Rate'], markers='.',\n",
        "             plot_kws={'x_jitter': 0.1, 'y_jitter': 0.1, 'scatter_kws': {'alpha': 0.2}},\n",
        "             kind='reg')"
      ],
      "execution_count": 15,
      "outputs": [
        {
          "output_type": "execute_result",
          "data": {
            "text/plain": [
              "<seaborn.axisgrid.PairGrid at 0x7fd3d67a6b10>"
            ]
          },
          "metadata": {},
          "execution_count": 15
        },
        {
          "output_type": "display_data",
          "data": {
            "image/png": "[encoded data removed]",
            "text/plain": [
              "<Figure size 1080x180 with 6 Axes>"
            ]
          },
          "metadata": {
            "needs_background": "light"
          }
        }
      ]
    },
    {
      "cell_type": "code",
      "metadata": {
        "colab": {
          "base_uri": "https://localhost:8080/",
          "height": 739
        },
        "id": "edMO-cgipqVk",
        "outputId": "9b802774-eb3f-43b0-8429-c6b62c4da2cc"
      },
      "source": [
        "# visualise correlation coefficients\n",
        "plt.figure(figsize=(12, 12))\n",
        "sns.heatmap(data_num.corr(), square=True, cmap='PRGn', vmin=-1, vmax=1)"
      ],
      "execution_count": 17,
      "outputs": [
        {
          "output_type": "execute_result",
          "data": {
            "text/plain": [
              "<matplotlib.axes._subplots.AxesSubplot at 0x7fd3ca3102d0>"
            ]
          },
          "metadata": {},
          "execution_count": 17
        },
        {
          "output_type": "display_data",
          "data": {
            "image/png": "[encoded data removed]",
            "text/plain": [
              "<Figure size 864x864 with 2 Axes>"
            ]
          },
          "metadata": {
            "needs_background": "light"
          }
        }
      ]
    },
    {
      "cell_type": "markdown",
      "metadata": {
        "id": "LBSvgG-zqMIh"
      },
      "source": [
        "### Multicolinearity\n",
        "\n",
        "If you are using regression for inference rather than as a predictive tool, it is important to check for [muilticolinearity](https://en.wikipedia.org/wiki/Multicollinearity#Definition). This is when your features are highly correlated with one-another (i.e. the magnitude of the correlation coefficient between them is 0.6 or more). It can cause the regression problem to become ill-conditioned, where coefficients/parameters change dramatically in response to small changes in the data. In practice, this results in incorrect and misleading coefficients/parameters. More on inference later on."
      ]
    },
    {
      "cell_type": "markdown",
      "metadata": {
        "id": "aajs0oBJqODb"
      },
      "source": [
        "# 1.7 Select features"
      ]
    },
    {
      "cell_type": "code",
      "metadata": {
        "colab": {
          "base_uri": "https://localhost:8080/"
        },
        "id": "p_KbmMwYp8IA",
        "outputId": "58778a3f-3263-4a19-c937-a9a04678fa1f"
      },
      "source": [
        "# correlation with the target variables\n",
        "data_num.corr()['RF'].abs().sort_values(ascending=False)"
      ],
      "execution_count": 18,
      "outputs": [
        {
          "output_type": "execute_result",
          "data": {
            "text/plain": [
              "RF                      1.000000\n",
              "PV                      0.812334\n",
              "oil flow Rate           0.593067\n",
              "pore volume             0.276299\n",
              "Permeability            0.186689\n",
              "Porosity                0.128859\n",
              "initial oil in place    0.069594\n",
              "foam type               0.056507\n",
              "Name: RF, dtype: float64"
            ]
          },
          "metadata": {},
          "execution_count": 18
        }
      ]
    },
    {
      "cell_type": "code",
      "metadata": {
        "colab": {
          "base_uri": "https://localhost:8080/"
        },
        "id": "P3T65IfCqhCA",
        "outputId": "616e6479-4a00-4395-fe62-d5abe75eb209"
      },
      "source": [
        "# correlation with the target variable\n",
        "data_num.corr()['oil flow Rate'].abs().sort_values(ascending=False)"
      ],
      "execution_count": 19,
      "outputs": [
        {
          "output_type": "execute_result",
          "data": {
            "text/plain": [
              "oil flow Rate           1.000000\n",
              "PV                      0.599989\n",
              "RF                      0.593067\n",
              "initial oil in place    0.060457\n",
              "Permeability            0.038649\n",
              "Porosity                0.035960\n",
              "foam type               0.017151\n",
              "pore volume             0.014761\n",
              "Name: oil flow Rate, dtype: float64"
            ]
          },
          "metadata": {},
          "execution_count": 19
        }
      ]
    },
    {
      "cell_type": "code",
      "metadata": {
        "id": "Dyg9tMtetxaT"
      },
      "source": [
        "# we will then drop all rows containing the remaining missing values \n",
        "data_num = data_num.dropna()"
      ],
      "execution_count": 42,
      "outputs": []
    },
    {
      "cell_type": "code",
      "metadata": {
        "id": "3vqaIvYgqpn_"
      },
      "source": [
        "# select the 9 most highly correlated features with the target variable to be our features\n",
        "X = data_num[data_num.corr()['RF'].abs().sort_values(ascending=False)[1:6].index.to_list()]\n",
        "\n",
        "# select our target variable\n",
        "y = data_num[\"RF\"]"
      ],
      "execution_count": 43,
      "outputs": []
    },
    {
      "cell_type": "markdown",
      "metadata": {
        "id": "HSH1wvn_rDuC"
      },
      "source": [
        "## 1.8 Train/test split"
      ]
    },
    {
      "cell_type": "code",
      "metadata": {
        "id": "ZRSTw9BGrE_7"
      },
      "source": [
        "# perform the train/test split with random_state=123\n",
        "X_train, X_test, y_train, y_test = train_test_split(X, y, test_size=0.15, random_state=123)"
      ],
      "execution_count": 44,
      "outputs": []
    },
    {
      "cell_type": "code",
      "metadata": {
        "colab": {
          "base_uri": "https://localhost:8080/"
        },
        "id": "sRW4tJm1rR38",
        "outputId": "2019358d-f600-4fe9-83f7-2fe1661c041d"
      },
      "source": [
        "# Check the shapes\n",
        "print('X_train:', X_train.shape)\n",
        "print('y_train:', y_train.shape)\n",
        "print('X_test:', X_test.shape)\n",
        "print('y_test:', y_test.shape)"
      ],
      "execution_count": 45,
      "outputs": [
        {
          "output_type": "stream",
          "name": "stdout",
          "text": [
            "X_train: (179, 5)\n",
            "y_train: (179,)\n",
            "X_test: (32, 5)\n",
            "y_test: (32,)\n"
          ]
        }
      ]
    },
    {
      "cell_type": "markdown",
      "metadata": {
        "id": "C-gnefMLrZ0y"
      },
      "source": [
        "## 1.9 Creating our model"
      ]
    },
    {
      "cell_type": "code",
      "metadata": {
        "colab": {
          "base_uri": "https://localhost:8080/"
        },
        "id": "RHrNjsHfrYvc",
        "outputId": "04a33397-ddbb-4a4a-e4f6-de903c513e42"
      },
      "source": [
        "# instantiate model class object\n",
        "model = LinearRegression()\n",
        "\n",
        "# fit model to the training set\n",
        "model.fit(X_train, y_train)"
      ],
      "execution_count": 46,
      "outputs": [
        {
          "output_type": "execute_result",
          "data": {
            "text/plain": [
              "LinearRegression(copy_X=True, fit_intercept=True, n_jobs=None, normalize=False)"
            ]
          },
          "metadata": {},
          "execution_count": 46
        }
      ]
    },
    {
      "cell_type": "markdown",
      "metadata": {
        "id": "c6pg-NuurnKI"
      },
      "source": [
        "## 1.10 Evaluation"
      ]
    },
    {
      "cell_type": "markdown",
      "metadata": {
        "id": "MYSqdgVbsiT_"
      },
      "source": [
        "In order to evaluate how effective our model is for predictive modelling we need to see how well it performs on unseen data; the test set!"
      ]
    },
    {
      "cell_type": "code",
      "metadata": {
        "id": "Z26MrktOrqy1"
      },
      "source": [
        "# use our model to generate predictions for the test set\n",
        "preds_test = model.predict(X_test)"
      ],
      "execution_count": 47,
      "outputs": []
    },
    {
      "cell_type": "code",
      "metadata": {
        "colab": {
          "base_uri": "https://localhost:8080/"
        },
        "id": "IxnC1tmMsIVs",
        "outputId": "774c5218-9d6f-488f-bcc3-02e2c4e1d681"
      },
      "source": [
        "# evaluate how good these predictions are using mae and rmse\n",
        "mae = mean_absolute_error(y_test, preds_test)\n",
        "rmse = mean_squared_error(y_test, preds_test, squared=False)\n",
        "\n",
        "print('MAE:', mae)\n",
        "print('RMSE:', rmse)"
      ],
      "execution_count": 48,
      "outputs": [
        {
          "output_type": "stream",
          "name": "stdout",
          "text": [
            "MAE: 2.4689274002392523\n",
            "RMSE: 3.418791545888212\n"
          ]
        }
      ]
    },
    {
      "cell_type": "markdown",
      "metadata": {
        "id": "TS9d6syBsNCL"
      },
      "source": [
        "Here we have used both the mean absolute error and the root mean squared error. The mean absolute error is more robust to outliers than the root mean squared error as it doesn't involve squaring your residuals. However, using the root mean squared error may be preferable if you want to make sure that your models have taken outliers into account. You can read more about these error metrics [here](https://www.dataquest.io/blog/understanding-regression-error-metrics/)."
      ]
    },
    {
      "cell_type": "code",
      "metadata": {
        "colab": {
          "base_uri": "https://localhost:8080/",
          "height": 334
        },
        "id": "cuH8YpYHsJxf",
        "outputId": "edfdaf70-62c3-4019-bff3-4a1702f082b1"
      },
      "source": [
        "# evaluation can also be done visually by plotting predictions vs the true target\n",
        "# across the entire dataset\n",
        "preds = model.predict(X)\n",
        "\n",
        "plt.figure(figsize=(8,5))\n",
        "plt.scatter(y, preds, alpha=0.4, linewidths=1, edgecolors='white')\n",
        "plt.plot(y, y, color='darkred', alpha=0.5)\n",
        "plt.xlabel('Real Recovery Factor')\n",
        "plt.ylabel('Predicted Recovery factor')\n",
        "sns.despine()"
      ],
      "execution_count": 50,
      "outputs": [
        {
          "output_type": "display_data",
          "data": {
            "image/png": "[encoded data removed]",
            "text/plain": [
              "<Figure size 576x360 with 1 Axes>"
            ]
          },
          "metadata": {
            "needs_background": "light"
          }
        }
      ]
    },
    {
      "cell_type": "markdown",
      "metadata": {
        "id": "n3yx1f-uu5hj"
      },
      "source": [
        "## 1.11 Inference \n",
        "\n",
        "So far we have been using linear regression purely as a predictive tool. However, one of the main advantageous of linear regression is that it is incredibely useful for inference. This is where we use our model to try and understand how the target variable was generated from our features, rather than just predicting it. You can read more about the differences between prediction and inference here.\n",
        "\n",
        "The reason linear regression is great for inference is that we can easily interpret the meaning of the parameters/coefficients of our model."
      ]
    },
    {
      "cell_type": "code",
      "metadata": {
        "colab": {
          "base_uri": "https://localhost:8080/"
        },
        "id": "qalHq8yivEb_",
        "outputId": "022e2925-b858-4328-beb9-2be068d9d8c3"
      },
      "source": [
        "# instantiate model class object\n",
        "model = LinearRegression()\n",
        "\n",
        "# when using regression for inference you should fit your model to the entire dataset\n",
        "model.fit(X, y)"
      ],
      "execution_count": 53,
      "outputs": [
        {
          "output_type": "execute_result",
          "data": {
            "text/plain": [
              "LinearRegression(copy_X=True, fit_intercept=True, n_jobs=None, normalize=False)"
            ]
          },
          "metadata": {},
          "execution_count": 53
        }
      ]
    },
    {
      "cell_type": "code",
      "metadata": {
        "id": "lLs90vtgvNnI"
      },
      "source": [
        "# make predictions across the entire dataset\n",
        "preds = model.predict(X)"
      ],
      "execution_count": 54,
      "outputs": []
    },
    {
      "cell_type": "code",
      "metadata": {
        "colab": {
          "base_uri": "https://localhost:8080/"
        },
        "id": "oVtr1qN4udgp",
        "outputId": "c665db70-c785-40ea-c30f-95e8b2f9117b"
      },
      "source": [
        "# when using regression for inference it is more common to use the R-squared metric for evaluation \n",
        "# this is also typically done on the whole dataset (rather than a separate test set)\n",
        "# it is a measure of how much variance in the target variable our model is able to explain \n",
        "r2 = r2_score(y, preds)\n",
        "r2"
      ],
      "execution_count": 51,
      "outputs": [
        {
          "output_type": "execute_result",
          "data": {
            "text/plain": [
              "0.8654328689247712"
            ]
          },
          "metadata": {},
          "execution_count": 51
        }
      ]
    },
    {
      "cell_type": "code",
      "metadata": {
        "colab": {
          "base_uri": "https://localhost:8080/",
          "height": 206
        },
        "id": "LfMG5by2usbF",
        "outputId": "f82fb9b1-f2a0-4fe1-e10c-c8aef20eee00"
      },
      "source": [
        "# lets have a look at our models parameters or coefficients\n",
        "params = pd.DataFrame({'Features': X.columns, 'Coefficients': model.coef_})\n",
        "params"
      ],
      "execution_count": 52,
      "outputs": [
        {
          "output_type": "execute_result",
          "data": {
            "text/html": [
              "<div>\n",
              "<style scoped>\n",
              "    .dataframe tbody tr th:only-of-type {\n",
              "        vertical-align: middle;\n",
              "    }\n",
              "\n",
              "    .dataframe tbody tr th {\n",
              "        vertical-align: top;\n",
              "    }\n",
              "\n",
              "    .dataframe thead th {\n",
              "        text-align: right;\n",
              "    }\n",
              "</style>\n",
              "<table border=\"1\" class=\"dataframe\">\n",
              "  <thead>\n",
              "    <tr style=\"text-align: right;\">\n",
              "      <th></th>\n",
              "      <th>Features</th>\n",
              "      <th>Coefficients</th>\n",
              "    </tr>\n",
              "  </thead>\n",
              "  <tbody>\n",
              "    <tr>\n",
              "      <th>0</th>\n",
              "      <td>PV</td>\n",
              "      <td>0.813664</td>\n",
              "    </tr>\n",
              "    <tr>\n",
              "      <th>1</th>\n",
              "      <td>oil flow Rate</td>\n",
              "      <td>-32.686730</td>\n",
              "    </tr>\n",
              "    <tr>\n",
              "      <th>2</th>\n",
              "      <td>pore volume</td>\n",
              "      <td>3.107010</td>\n",
              "    </tr>\n",
              "    <tr>\n",
              "      <th>3</th>\n",
              "      <td>Permeability</td>\n",
              "      <td>2.236208</td>\n",
              "    </tr>\n",
              "    <tr>\n",
              "      <th>4</th>\n",
              "      <td>Porosity</td>\n",
              "      <td>5.294762</td>\n",
              "    </tr>\n",
              "  </tbody>\n",
              "</table>\n",
              "</div>"
            ],
            "text/plain": [
              "        Features  Coefficients\n",
              "0             PV      0.813664\n",
              "1  oil flow Rate    -32.686730\n",
              "2    pore volume      3.107010\n",
              "3   Permeability      2.236208\n",
              "4       Porosity      5.294762"
            ]
          },
          "metadata": {},
          "execution_count": 52
        }
      ]
    },
    {
      "cell_type": "markdown",
      "metadata": {
        "id": "BjULseyhxYdY"
      },
      "source": [
        "# 2. K-Means"
      ]
    },
    {
      "cell_type": "markdown",
      "metadata": {
        "id": "AhMoz6YHxS3L"
      },
      "source": [
        "Let us now turn our attention to clustering and see what can be gained by applying the K-Means algorithm to this dataset."
      ]
    },
    {
      "cell_type": "markdown",
      "metadata": {
        "id": "74q-FyfRxlLv"
      },
      "source": [
        "## 2.1 Imports\n"
      ]
    },
    {
      "cell_type": "code",
      "metadata": {
        "id": "lLKOQuisxhkt"
      },
      "source": [
        "# to scale our data so that we can perform \"sensible\" clustering\n",
        "from sklearn.preprocessing import scale\n",
        "\n",
        "# to provide an implementation of the k-means algorithm\n",
        "from sklearn.cluster import KMeans\n",
        "\n",
        "# to provide an implementation of PCA for reducing the dimensionality of our data\n",
        "from sklearn.decomposition import PCA"
      ],
      "execution_count": 55,
      "outputs": []
    },
    {
      "cell_type": "markdown",
      "metadata": {
        "id": "A0XzfHWPxxE5"
      },
      "source": [
        "## 2.2 Define and fit the k-means model"
      ]
    },
    {
      "cell_type": "code",
      "metadata": {
        "colab": {
          "base_uri": "https://localhost:8080/"
        },
        "id": "_BM7roUfxwj2",
        "outputId": "6e470cac-d462-4838-c3f2-8a32963ef067"
      },
      "source": [
        "# create a KMeans class object and choose the number of clusters k\n",
        "KMeans_model = KMeans(n_clusters = 6, random_state = 123)\n",
        "\n",
        "# fit the model to our scaled features\n",
        "KMeans_model.fit(scale(X_train))"
      ],
      "execution_count": 56,
      "outputs": [
        {
          "output_type": "execute_result",
          "data": {
            "text/plain": [
              "KMeans(algorithm='auto', copy_x=True, init='k-means++', max_iter=300,\n",
              "       n_clusters=6, n_init=10, n_jobs=None, precompute_distances='auto',\n",
              "       random_state=123, tol=0.0001, verbose=0)"
            ]
          },
          "metadata": {},
          "execution_count": 56
        }
      ]
    },
    {
      "cell_type": "markdown",
      "metadata": {
        "id": "rZLdWdsSx-4F"
      },
      "source": [
        "How do you know that you have the correct hyperparemeter k when using k-means? Try using the [Elbow method](https://en.wikipedia.org/wiki/Elbow_method_(clustering)."
      ]
    },
    {
      "cell_type": "code",
      "metadata": {
        "colab": {
          "base_uri": "https://localhost:8080/",
          "height": 315
        },
        "id": "v_12Fg6LxsK4",
        "outputId": "07bea759-bdfb-433d-a307-31ee019deab4"
      },
      "source": [
        "# add our cluster labels as a new column to our original training set features\n",
        "X_train['cluster'] = KMeans_model.labels_\n",
        "X_train.head()"
      ],
      "execution_count": 57,
      "outputs": [
        {
          "output_type": "stream",
          "name": "stderr",
          "text": [
            "/usr/local/lib/python3.7/dist-packages/ipykernel_launcher.py:2: SettingWithCopyWarning: \n",
            "A value is trying to be set on a copy of a slice from a DataFrame.\n",
            "Try using .loc[row_indexer,col_indexer] = value instead\n",
            "\n",
            "See the caveats in the documentation: https://pandas.pydata.org/pandas-docs/stable/user_guide/indexing.html#returning-a-view-versus-a-copy\n",
            "  \n"
          ]
        },
        {
          "output_type": "execute_result",
          "data": {
            "text/html": [
              "<div>\n",
              "<style scoped>\n",
              "    .dataframe tbody tr th:only-of-type {\n",
              "        vertical-align: middle;\n",
              "    }\n",
              "\n",
              "    .dataframe tbody tr th {\n",
              "        vertical-align: top;\n",
              "    }\n",
              "\n",
              "    .dataframe thead th {\n",
              "        text-align: right;\n",
              "    }\n",
              "</style>\n",
              "<table border=\"1\" class=\"dataframe\">\n",
              "  <thead>\n",
              "    <tr style=\"text-align: right;\">\n",
              "      <th></th>\n",
              "      <th>PV</th>\n",
              "      <th>oil flow Rate</th>\n",
              "      <th>pore volume</th>\n",
              "      <th>Permeability</th>\n",
              "      <th>Porosity</th>\n",
              "      <th>cluster</th>\n",
              "    </tr>\n",
              "  </thead>\n",
              "  <tbody>\n",
              "    <tr>\n",
              "      <th>184</th>\n",
              "      <td>8.5</td>\n",
              "      <td>0.027</td>\n",
              "      <td>49.0</td>\n",
              "      <td>28.2</td>\n",
              "      <td>23.36</td>\n",
              "      <td>1</td>\n",
              "    </tr>\n",
              "    <tr>\n",
              "      <th>192</th>\n",
              "      <td>17.6</td>\n",
              "      <td>0.003</td>\n",
              "      <td>49.0</td>\n",
              "      <td>28.2</td>\n",
              "      <td>23.36</td>\n",
              "      <td>1</td>\n",
              "    </tr>\n",
              "    <tr>\n",
              "      <th>188</th>\n",
              "      <td>13.0</td>\n",
              "      <td>0.010</td>\n",
              "      <td>49.0</td>\n",
              "      <td>28.2</td>\n",
              "      <td>23.36</td>\n",
              "      <td>1</td>\n",
              "    </tr>\n",
              "    <tr>\n",
              "      <th>165</th>\n",
              "      <td>0.2</td>\n",
              "      <td>0.120</td>\n",
              "      <td>49.0</td>\n",
              "      <td>28.2</td>\n",
              "      <td>23.36</td>\n",
              "      <td>3</td>\n",
              "    </tr>\n",
              "    <tr>\n",
              "      <th>10</th>\n",
              "      <td>3.7</td>\n",
              "      <td>0.041</td>\n",
              "      <td>43.5</td>\n",
              "      <td>9.0</td>\n",
              "      <td>34.80</td>\n",
              "      <td>2</td>\n",
              "    </tr>\n",
              "  </tbody>\n",
              "</table>\n",
              "</div>"
            ],
            "text/plain": [
              "       PV  oil flow Rate  pore volume  Permeability  Porosity  cluster\n",
              "184   8.5          0.027         49.0          28.2     23.36        1\n",
              "192  17.6          0.003         49.0          28.2     23.36        1\n",
              "188  13.0          0.010         49.0          28.2     23.36        1\n",
              "165   0.2          0.120         49.0          28.2     23.36        3\n",
              "10    3.7          0.041         43.5           9.0     34.80        2"
            ]
          },
          "metadata": {},
          "execution_count": 57
        }
      ]
    },
    {
      "cell_type": "markdown",
      "metadata": {
        "id": "IlFAFrYDyIA3"
      },
      "source": [
        "## 2.3 PCA for visualizing our clusters"
      ]
    },
    {
      "cell_type": "markdown",
      "metadata": {
        "id": "dB2tOpyyyN_X"
      },
      "source": [
        "One of the main challenges of clustering in high dimensional spaces is how we actually visualize our clusters. PCA allows us to reduce this 9-dimensional space down to just 2 dimensions. This allows us to easily view and inspect our clusters in a simple 2D scatter plot."
      ]
    },
    {
      "cell_type": "code",
      "metadata": {
        "colab": {
          "base_uri": "https://localhost:8080/"
        },
        "id": "wextF6FFyEhH",
        "outputId": "185fc102-e6ef-48c2-a0ef-0fbeda118ee4"
      },
      "source": [
        "# we want to reduce the dimensionality of our data to 2 dimensions for easy visualization\n",
        "pca = PCA(n_components=2)\n",
        "\n",
        "# fit our pca object to the scaled data\n",
        "X_train_pca = pca.fit_transform(scale(X_train.drop('cluster', axis=1)))\n",
        "\n",
        "# explained variance is the fraction of the total variance in the entire dataset that a principal component accounts for\n",
        "pca.explained_variance_ratio_"
      ],
      "execution_count": 58,
      "outputs": [
        {
          "output_type": "execute_result",
          "data": {
            "text/plain": [
              "array([0.59949249, 0.29715288])"
            ]
          },
          "metadata": {},
          "execution_count": 58
        }
      ]
    },
    {
      "cell_type": "code",
      "metadata": {
        "colab": {
          "base_uri": "https://localhost:8080/",
          "height": 334
        },
        "id": "wWSZ86uRyYHS",
        "outputId": "5be49266-589d-4a16-8833-3728403e888e"
      },
      "source": [
        "# lets visualize our data in our reduced 2-dimensional space\n",
        "plt.figure  (figsize=(12, 5))\n",
        "plt.scatter(X_train_pca[:, 0], X_train_pca[:, 1], c=y_train, alpha=0.7, linewidths=1, \n",
        "            edgecolors='white', cmap='inferno')\n",
        "plt.xlabel('Principal component 1')\n",
        "plt.ylabel('Principal componene 2')\n",
        "sns.despine()\n",
        "plt.colorbar(label='Sale Price ($)')\n",
        "plt.show()"
      ],
      "execution_count": 59,
      "outputs": [
        {
          "output_type": "display_data",
          "data": {
            "image/png": "[encoded data removed]",
            "text/plain": [
              "<Figure size 864x360 with 2 Axes>"
            ]
          },
          "metadata": {
            "needs_background": "light"
          }
        }
      ]
    },
    {
      "cell_type": "code",
      "metadata": {
        "colab": {
          "base_uri": "https://localhost:8080/",
          "height": 334
        },
        "id": "K7ww2xG0yerW",
        "outputId": "6b894b03-9ec5-42b8-cb3f-4804cf4f136c"
      },
      "source": [
        "# lets visualize our data in our reduced 2-dimensional space\n",
        "plt.figure(figsize=(10, 5))\n",
        "plot = plt.scatter(X_train_pca[:, 0], X_train_pca[:, 1], c=X_train['cluster'], linewidths=1,\n",
        "                   edgecolors='white', cmap='viridis_r')\n",
        "plt.xlabel('Principal component 1')\n",
        "plt.ylabel('Principal componene 2')\n",
        "plt.legend(*plot.legend_elements(), loc=\"lower right\", title=\"Clusters\")\n",
        "sns.despine()\n",
        "plt.show()"
      ],
      "execution_count": 60,
      "outputs": [
        {
          "output_type": "display_data",
          "data": {
            "image/png": "[encoded data removed]",
            "text/plain": [
              "<Figure size 720x360 with 1 Axes>"
            ]
          },
          "metadata": {
            "needs_background": "light"
          }
        }
      ]
    },
    {
      "cell_type": "code",
      "metadata": {
        "colab": {
          "base_uri": "https://localhost:8080/"
        },
        "id": "smnjBYaqyoEL",
        "outputId": "87abb8c1-5fc5-43cd-c70e-88bdb65ec869"
      },
      "source": [
        "# let's have a look at the coordinates in feature space of our 2 pca components\n",
        "pca.components_"
      ],
      "execution_count": 61,
      "outputs": [
        {
          "output_type": "execute_result",
          "data": {
            "text/plain": [
              "array([[ 0.29290274, -0.09166147,  0.53459788,  0.55697128, -0.55659164],\n",
              "       [-0.61332518,  0.74559673,  0.1495045 ,  0.14867285, -0.15317482]])"
            ]
          },
          "metadata": {},
          "execution_count": 61
        }
      ]
    },
    {
      "cell_type": "code",
      "metadata": {
        "colab": {
          "base_uri": "https://localhost:8080/",
          "height": 424
        },
        "id": "8NzRUU05yqzj",
        "outputId": "428d2581-0d12-41cb-92b5-5b46ef63f72d"
      },
      "source": [
        "# it's often easier to visualize these components as a heatmap\n",
        "plt.figure(figsize=(3,7))\n",
        "sns.heatmap(pd.DataFrame(pca.components_,columns=X_train.drop('cluster', axis=1).columns).transpose(), \n",
        "            cmap='RdBu_r', vmin=-1, vmax=1, square=True)\n",
        "plt.xlabel('Principal component')\n",
        "plt.ylabel('Feature')\n",
        "plt.title('PCA components')\n",
        "plt.show()"
      ],
      "execution_count": 62,
      "outputs": [
        {
          "output_type": "display_data",
          "data": {
            "image/png": "[encoded data removed]",
            "text/plain": [
              "<Figure size 216x504 with 2 Axes>"
            ]
          },
          "metadata": {
            "needs_background": "light"
          }
        }
      ]
    },
    {
      "cell_type": "code",
      "metadata": {
        "id": "6Iq8PfLnysLU"
      },
      "source": [
        ""
      ],
      "execution_count": null,
      "outputs": []
    },
    {
      "cell_type": "markdown",
      "metadata": {
        "id": "kTUTDc3vzeni"
      },
      "source": [
        "From the above plots we can hypothesize that the first principal component is correlated with Recovery Factor(RF) and the second principal component seems to be correlated with general comfort and also the year built (it will be high if it's an old house). Using this information we could now attempt to interpret our clusters in our reduced 2 dimensional space. "
      ]
    },
    {
      "cell_type": "markdown",
      "metadata": {
        "id": "GujUwyRAz7er"
      },
      "source": [
        "## 2.4 Enhancing our original regression model"
      ]
    },
    {
      "cell_type": "markdown",
      "metadata": {
        "id": "Ru4SePEpz-sC"
      },
      "source": [
        "Ok, so we have created some clusters, applied PCA to visualize them and then thought a little about interpretation... So what? Well, we could now try to use this new insight (clusters) we have mined from our data in order to enhance our linear regressions predictive performance."
      ]
    },
    {
      "cell_type": "code",
      "metadata": {
        "id": "gl1iJWp5z0s5"
      },
      "source": [
        "# we need to one-hot encode the cluster feature as it is a purely categorical feature\n",
        "X_train = pd.get_dummies(X_train, columns=['cluster'], drop_first=True)"
      ],
      "execution_count": 63,
      "outputs": []
    },
    {
      "cell_type": "code",
      "metadata": {
        "colab": {
          "base_uri": "https://localhost:8080/"
        },
        "id": "zP0GH61Xz6tX",
        "outputId": "236cd069-1d42-49a7-9c28-de73866a937b"
      },
      "source": [
        "# instantiate model class object\n",
        "model2 = LinearRegression()\n",
        "\n",
        "# fit model to the training set\n",
        "model2.fit(X_train, y_train)"
      ],
      "execution_count": 64,
      "outputs": [
        {
          "output_type": "execute_result",
          "data": {
            "text/plain": [
              "LinearRegression(copy_X=True, fit_intercept=True, n_jobs=None, normalize=False)"
            ]
          },
          "metadata": {},
          "execution_count": 64
        }
      ]
    },
    {
      "cell_type": "code",
      "metadata": {
        "colab": {
          "base_uri": "https://localhost:8080/"
        },
        "id": "wTbyjpDu0EDq",
        "outputId": "dd1fabc4-501b-4956-fe94-ab1a7ca531c4"
      },
      "source": [
        "# in order to evaluate we must first apply the same steps to our test set as we did for our train set\n",
        "# let's first predict clusters for each of the data points and add this as a new feature\n",
        "X_test['cluster'] = KMeans_model.predict(scale(X_test))\n",
        "\n",
        "# now let's one-hot encode the new cluster feature \n",
        "X_test = pd.get_dummies(X_test, columns=['cluster'], drop_first=True)"
      ],
      "execution_count": 65,
      "outputs": [
        {
          "output_type": "stream",
          "name": "stderr",
          "text": [
            "/usr/local/lib/python3.7/dist-packages/ipykernel_launcher.py:3: SettingWithCopyWarning: \n",
            "A value is trying to be set on a copy of a slice from a DataFrame.\n",
            "Try using .loc[row_indexer,col_indexer] = value instead\n",
            "\n",
            "See the caveats in the documentation: https://pandas.pydata.org/pandas-docs/stable/user_guide/indexing.html#returning-a-view-versus-a-copy\n",
            "  This is separate from the ipykernel package so we can avoid doing imports until\n"
          ]
        }
      ]
    },
    {
      "cell_type": "code",
      "metadata": {
        "id": "5w63pqEb0G2d"
      },
      "source": [
        "# use our enhanced model to generate predictions for the test set\n",
        "preds_test = model2.predict(X_test)"
      ],
      "execution_count": 66,
      "outputs": []
    },
    {
      "cell_type": "code",
      "metadata": {
        "colab": {
          "base_uri": "https://localhost:8080/"
        },
        "id": "4iXi40tr0JJz",
        "outputId": "498d77fc-fc3e-4f82-b5f0-70f0a823e3ff"
      },
      "source": [
        "# evaluate how good these predictions are using mae and rmse\n",
        "mae = mean_absolute_error(y_test, preds_test)\n",
        "rmse = mean_squared_error(y_test, preds_test, squared=False)\n",
        "\n",
        "print('MAE:', mae)\n",
        "print('RMSE:', rmse)"
      ],
      "execution_count": 67,
      "outputs": [
        {
          "output_type": "stream",
          "name": "stdout",
          "text": [
            "MAE: 2.3056029706427075\n",
            "RMSE: 3.1050708297912846\n"
          ]
        }
      ]
    },
    {
      "cell_type": "markdown",
      "metadata": {
        "id": "J6rl774Q0U8A"
      },
      "source": [
        "This is a substantial improvement on our previous model. It seems that using K-means as a pre-processing step can sometimes be an effective strategy when building predictive models! "
      ]
    }
  ]
}